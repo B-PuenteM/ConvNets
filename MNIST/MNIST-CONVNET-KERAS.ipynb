{
 "cells": [
  {
   "cell_type": "code",
   "execution_count": 1,
   "id": "68d925b8",
   "metadata": {},
   "outputs": [],
   "source": [
    "#From: https://keras.io/examples/vision/mnist_convnet/\n",
    "#Setup\n",
    "import numpy as np\n",
    "from tensorflow import keras\n",
    "from tensorflow.keras import layers"
   ]
  },
  {
   "cell_type": "code",
   "execution_count": 2,
   "id": "4f34b454",
   "metadata": {},
   "outputs": [
    {
     "name": "stdout",
     "output_type": "stream",
     "text": [
      "Downloading data from https://storage.googleapis.com/tensorflow/tf-keras-datasets/mnist.npz\n",
      "11493376/11490434 [==============================] - 1s 0us/step\n",
      "x_train shape: (60000, 28, 28, 1)\n",
      "60000 train samples\n",
      "10000 test samples\n"
     ]
    }
   ],
   "source": [
    "#Prepare the data\n",
    "# Model / data parameters\n",
    "num_classes = 10\n",
    "input_shape = (28, 28, 1)\n",
    "\n",
    "# the data, split between train and test sets\n",
    "(x_train, y_train), (x_test, y_test) = keras.datasets.mnist.load_data()\n",
    "\n",
    "# Scale images to the [0, 1] range\n",
    "x_train = x_train.astype(\"float32\") / 255\n",
    "x_test = x_test.astype(\"float32\") / 255\n",
    "# Make sure images have shape (28, 28, 1)\n",
    "x_train = np.expand_dims(x_train, -1)\n",
    "x_test = np.expand_dims(x_test, -1)\n",
    "print(\"x_train shape:\", x_train.shape)\n",
    "print(x_train.shape[0], \"train samples\")\n",
    "print(x_test.shape[0], \"test samples\")\n",
    "\n",
    "\n",
    "# convert class vectors to binary class matrices\n",
    "y_train = keras.utils.to_categorical(y_train, num_classes)\n",
    "y_test = keras.utils.to_categorical(y_test, num_classes)"
   ]
  },
  {
   "cell_type": "code",
   "execution_count": 3,
   "id": "9d572829",
   "metadata": {},
   "outputs": [
    {
     "name": "stdout",
     "output_type": "stream",
     "text": [
      "Model: \"sequential\"\n",
      "_________________________________________________________________\n",
      "Layer (type)                 Output Shape              Param #   \n",
      "=================================================================\n",
      "conv2d (Conv2D)              (None, 26, 26, 32)        320       \n",
      "_________________________________________________________________\n",
      "max_pooling2d (MaxPooling2D) (None, 13, 13, 32)        0         \n",
      "_________________________________________________________________\n",
      "conv2d_1 (Conv2D)            (None, 11, 11, 64)        18496     \n",
      "_________________________________________________________________\n",
      "max_pooling2d_1 (MaxPooling2 (None, 5, 5, 64)          0         \n",
      "_________________________________________________________________\n",
      "flatten (Flatten)            (None, 1600)              0         \n",
      "_________________________________________________________________\n",
      "dropout (Dropout)            (None, 1600)              0         \n",
      "_________________________________________________________________\n",
      "dense (Dense)                (None, 10)                16010     \n",
      "=================================================================\n",
      "Total params: 34,826\n",
      "Trainable params: 34,826\n",
      "Non-trainable params: 0\n",
      "_________________________________________________________________\n"
     ]
    }
   ],
   "source": [
    "#build the model\n",
    "model = keras.Sequential(\n",
    "    [\n",
    "        keras.Input(shape=input_shape),\n",
    "        layers.Conv2D(32, kernel_size=(3, 3), activation=\"relu\"),\n",
    "        layers.MaxPooling2D(pool_size=(2, 2)),\n",
    "        layers.Conv2D(64, kernel_size=(3, 3), activation=\"relu\"),\n",
    "        layers.MaxPooling2D(pool_size=(2, 2)),\n",
    "        layers.Flatten(),\n",
    "        layers.Dropout(0.5),\n",
    "        layers.Dense(num_classes, activation=\"softmax\"),\n",
    "    ]\n",
    ")\n",
    "\n",
    "model.summary()"
   ]
  },
  {
   "cell_type": "code",
   "execution_count": 4,
   "id": "fd157d86",
   "metadata": {},
   "outputs": [
    {
     "name": "stdout",
     "output_type": "stream",
     "text": [
      "Train on 54000 samples, validate on 6000 samples\n",
      "Epoch 1/15\n",
      "54000/54000 [==============================] - 24s 442us/sample - loss: 0.3692 - accuracy: 0.8867 - val_loss: 0.0829 - val_accuracy: 0.9770\n",
      "Epoch 2/15\n",
      "54000/54000 [==============================] - 24s 440us/sample - loss: 0.1125 - accuracy: 0.9646 - val_loss: 0.0588 - val_accuracy: 0.9847\n",
      "Epoch 3/15\n",
      "54000/54000 [==============================] - 32s 592us/sample - loss: 0.0850 - accuracy: 0.9742 - val_loss: 0.0517 - val_accuracy: 0.9847\n",
      "Epoch 4/15\n",
      "54000/54000 [==============================] - 27s 506us/sample - loss: 0.0724 - accuracy: 0.9774 - val_loss: 0.0417 - val_accuracy: 0.9890\n",
      "Epoch 5/15\n",
      "54000/54000 [==============================] - 28s 527us/sample - loss: 0.0635 - accuracy: 0.9810 - val_loss: 0.0409 - val_accuracy: 0.9890\n",
      "Epoch 6/15\n",
      "54000/54000 [==============================] - 26s 482us/sample - loss: 0.0556 - accuracy: 0.9828 - val_loss: 0.0367 - val_accuracy: 0.9907\n",
      "Epoch 7/15\n",
      "54000/54000 [==============================] - 25s 464us/sample - loss: 0.0532 - accuracy: 0.9836 - val_loss: 0.0342 - val_accuracy: 0.9900\n",
      "Epoch 8/15\n",
      "54000/54000 [==============================] - 25s 464us/sample - loss: 0.0483 - accuracy: 0.9851 - val_loss: 0.0310 - val_accuracy: 0.9923\n",
      "Epoch 9/15\n",
      "54000/54000 [==============================] - 25s 459us/sample - loss: 0.0456 - accuracy: 0.9855 - val_loss: 0.0360 - val_accuracy: 0.9910\n",
      "Epoch 10/15\n",
      "54000/54000 [==============================] - 26s 474us/sample - loss: 0.0437 - accuracy: 0.9864 - val_loss: 0.0301 - val_accuracy: 0.9915\n",
      "Epoch 11/15\n",
      "54000/54000 [==============================] - 24s 448us/sample - loss: 0.0404 - accuracy: 0.9872 - val_loss: 0.0314 - val_accuracy: 0.9920\n",
      "Epoch 12/15\n",
      "54000/54000 [==============================] - 24s 441us/sample - loss: 0.0392 - accuracy: 0.9878 - val_loss: 0.0301 - val_accuracy: 0.9922\n",
      "Epoch 13/15\n",
      "54000/54000 [==============================] - 24s 453us/sample - loss: 0.0366 - accuracy: 0.9883 - val_loss: 0.0282 - val_accuracy: 0.9923\n",
      "Epoch 14/15\n",
      "54000/54000 [==============================] - 24s 439us/sample - loss: 0.0369 - accuracy: 0.9882 - val_loss: 0.0295 - val_accuracy: 0.9922\n",
      "Epoch 15/15\n",
      "54000/54000 [==============================] - 24s 450us/sample - loss: 0.0339 - accuracy: 0.9893 - val_loss: 0.0271 - val_accuracy: 0.9925\n"
     ]
    },
    {
     "data": {
      "text/plain": [
       "<tensorflow.python.keras.callbacks.History at 0x7fd51133f1d0>"
      ]
     },
     "execution_count": 4,
     "metadata": {},
     "output_type": "execute_result"
    }
   ],
   "source": [
    "#train the model\n",
    "batch_size = 128\n",
    "epochs = 15\n",
    "\n",
    "model.compile(loss=\"categorical_crossentropy\", optimizer=\"adam\", metrics=[\"accuracy\"])\n",
    "\n",
    "model.fit(x_train, y_train, batch_size=batch_size, epochs=epochs, validation_split=0.1)"
   ]
  },
  {
   "cell_type": "code",
   "execution_count": 5,
   "id": "772a6b54",
   "metadata": {},
   "outputs": [
    {
     "name": "stdout",
     "output_type": "stream",
     "text": [
      "Test loss: 0.025453010741015896\n",
      "Test accuracy: 0.9911\n"
     ]
    }
   ],
   "source": [
    "#evaluate trained model\n",
    "score = model.evaluate(x_test, y_test, verbose=0)\n",
    "print(\"Test loss:\", score[0])\n",
    "print(\"Test accuracy:\", score[1])"
   ]
  },
  {
   "cell_type": "code",
   "execution_count": null,
   "id": "cf28b2b3",
   "metadata": {},
   "outputs": [],
   "source": []
  }
 ],
 "metadata": {
  "kernelspec": {
   "display_name": "Python 3",
   "language": "python",
   "name": "python3"
  },
  "language_info": {
   "codemirror_mode": {
    "name": "ipython",
    "version": 3
   },
   "file_extension": ".py",
   "mimetype": "text/x-python",
   "name": "python",
   "nbconvert_exporter": "python",
   "pygments_lexer": "ipython3",
   "version": "3.7.4"
  }
 },
 "nbformat": 4,
 "nbformat_minor": 5
}
